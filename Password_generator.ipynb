{
  "nbformat": 4,
  "nbformat_minor": 0,
  "metadata": {
    "colab": {
      "name": "Password generator.ipynb",
      "provenance": []
    },
    "kernelspec": {
      "name": "python3",
      "display_name": "Python 3"
    },
    "language_info": {
      "name": "python"
    }
  },
  "cells": [
    {
      "cell_type": "code",
      "execution_count": 19,
      "metadata": {
        "id": "DvAT930nZZVA"
      },
      "outputs": [],
      "source": [
        "import random"
      ]
    },
    {
      "cell_type": "code",
      "source": [
        "s = 'qwertyuiopasdfghjklzxcvbnm1234567890'\n",
        "l=[];\n",
        "l.extend(list(s));\n",
        "random.shuffle(l)\n",
        "print(\"Enter length of the password:\\n '1' for weak\\n '2' for average\\n '3' for strong pasword\\n\");\n",
        "a = int(input())\n",
        "if(a == 1):\n",
        "  print(\"Your passwrod is:\",\"\".join(l[0:5]));\n",
        "elif(a == 2):\n",
        "  print(\"Your password is:\",\"\".join(l[0:8]));\n",
        "elif(a == 3):\n",
        "  print(\"Your password is:\",\"\".join(l[0:10]));"
      ],
      "metadata": {
        "colab": {
          "base_uri": "https://localhost:8080/"
        },
        "id": "LgPxTSj1ZeZ0",
        "outputId": "6c7cfcf8-0897-4427-d691-1b7bef6cc752"
      },
      "execution_count": 29,
      "outputs": [
        {
          "output_type": "stream",
          "name": "stdout",
          "text": [
            "Enter length of the password:\n",
            " '1' for weak\n",
            " '2' for average\n",
            " '3' for strong pasword\n",
            "\n",
            "1\n",
            "Your passwrod is: s498d\n"
          ]
        }
      ]
    }
  ]
}